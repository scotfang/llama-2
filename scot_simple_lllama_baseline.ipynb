{
 "cells": [
  {
   "cell_type": "markdown",
   "id": "836e9cbf-336f-413a-9039-3fd76d2eb771",
   "metadata": {},
   "source": [
    "Benchmarking Hardware"
   ]
  },
  {
   "cell_type": "code",
   "execution_count": 1,
   "id": "447375c6-51c3-423b-b6bc-8e01a36da41a",
   "metadata": {},
   "outputs": [
    {
     "name": "stderr",
     "output_type": "stream",
     "text": [
      "/opt/conda/envs/py39_llama_hf/lib/python3.9/site-packages/tqdm/auto.py:21: TqdmWarning: IProgress not found. Please update jupyter and ipywidgets. See https://ipywidgets.readthedocs.io/en/stable/user_install.html\n",
      "  from .autonotebook import tqdm as notebook_tqdm\n"
     ]
    }
   ],
   "source": [
    "from transformers import AutoTokenizer\n",
    "import transformers\n",
    "import torch\n",
    "\n",
    "model = \"meta-llama/Llama-2-7b-chat-hf\"\n",
    "\n",
    "tokenizer = AutoTokenizer.from_pretrained(model)"
   ]
  },
  {
   "cell_type": "code",
   "execution_count": 2,
   "id": "dd2b351f-70be-4211-b638-c0cfdee1bcf9",
   "metadata": {},
   "outputs": [
    {
     "name": "stdout",
     "output_type": "stream",
     "text": [
      "2.0.1+cu118\n",
      "4.31.0\n"
     ]
    }
   ],
   "source": [
    "print(torch.__version__)\n",
    "print(transformers.__version__)"
   ]
  },
  {
   "cell_type": "code",
   "execution_count": 3,
   "id": "a586c354-561e-4299-9a82-0b433d77deca",
   "metadata": {},
   "outputs": [
    {
     "name": "stdout",
     "output_type": "stream",
     "text": [
      "\n",
      "===================================BUG REPORT===================================\n",
      "Welcome to bitsandbytes. For bug reports, please run\n",
      "\n",
      "python -m bitsandbytes\n",
      "\n",
      " and submit this information together with your error trace to: https://github.com/TimDettmers/bitsandbytes/issues\n",
      "================================================================================\n",
      "bin /opt/conda/envs/py39_llama_hf/lib/python3.9/site-packages/bitsandbytes/libbitsandbytes_cuda113.so\n",
      "CUDA SETUP: CUDA runtime path found: /usr/local/cuda/lib64/libcudart.so.11.0\n",
      "CUDA SETUP: Highest compute capability among GPUs detected: 7.5\n",
      "CUDA SETUP: Detected CUDA version 113\n",
      "CUDA SETUP: Loading binary /opt/conda/envs/py39_llama_hf/lib/python3.9/site-packages/bitsandbytes/libbitsandbytes_cuda113.so...\n"
     ]
    },
    {
     "name": "stderr",
     "output_type": "stream",
     "text": [
      "/opt/conda/envs/py39_llama_hf/lib/python3.9/site-packages/bitsandbytes/cuda_setup/main.py:149: UserWarning: /opt/conda did not contain ['libcudart.so', 'libcudart.so.11.0', 'libcudart.so.12.0'] as expected! Searching further paths...\n",
      "  warn(msg)\n",
      "Loading checkpoint shards: 100%|██████████| 2/2 [01:19<00:00, 39.91s/it]\n",
      "Xformers is not installed correctly. If you want to use memory_efficient_attention to accelerate training use the following command to install Xformers\n",
      "pip install xformers.\n"
     ]
    },
    {
     "name": "stdout",
     "output_type": "stream",
     "text": [
      "done creating pipeline\n"
     ]
    }
   ],
   "source": [
    "pipeline = transformers.pipeline(\n",
    "    \"text-generation\",\n",
    "    model=model,\n",
    "    torch_dtype=torch.float16,\n",
    "    device_map=\"auto\",\n",
    ")\n",
    "print(\"done creating pipeline\")"
   ]
  },
  {
   "cell_type": "code",
   "execution_count": 5,
   "id": "ea3b46fe-0b07-4c2f-8d12-13044df958b3",
   "metadata": {},
   "outputs": [
    {
     "name": "stderr",
     "output_type": "stream",
     "text": [
      "/opt/conda/envs/py39_llama_hf/lib/python3.9/site-packages/transformers/pipelines/base.py:1083: UserWarning: You seem to be using the pipelines sequentially on GPU. In order to maximize efficiency please use a dataset\n",
      "  warnings.warn(\n"
     ]
    },
    {
     "name": "stdout",
     "output_type": "stream",
     "text": [
      "top_K: 1, end-to-end inference time: 1.7114698886871338s\n",
      "top_K: 2, end-to-end inference time: 10.269404411315918s\n",
      "top_K: 3, end-to-end inference time: 10.34311842918396s\n",
      "top_K: 4, end-to-end inference time: 10.357712030410767s\n",
      "top_K: 5, end-to-end inference time: 0.26271843910217285s\n",
      "top_K: 6, end-to-end inference time: 10.357895135879517s\n",
      "top_K: 7, end-to-end inference time: 4.958071947097778s\n",
      "top_K: 8, end-to-end inference time: 10.36292815208435s\n",
      "top_K: 9, end-to-end inference time: 2.7058143615722656s\n",
      "top_K: 10, end-to-end inference time: 1.033567190170288s\n"
     ]
    }
   ],
   "source": [
    "import time\n",
    "\n",
    "benchmark_results = [] # (top_k, seconds)\n",
    "for k in range(1, 11):\n",
    "    start_time = time.time()\n",
    "    sequences = pipeline(\n",
    "        'I liked \"Breaking Bad\" and \"Band of Brothers\". Do you have any recommendations of other shows I might like?\\n',\n",
    "        do_sample=True,\n",
    "        top_k=k,  # top_k=10 takes 10 seconds with do_sample=True\n",
    "        num_return_sequences=1,\n",
    "        eos_token_id=tokenizer.eos_token_id,\n",
    "        max_length=200,\n",
    "    )\n",
    "    end_time = time.time()\n",
    "    execution_time = end_time - start_time\n",
    "    print(f\"top_K: {k}, end-to-end inference time: {execution_time}s\")"
   ]
  }
 ],
 "metadata": {
  "environment": {
   "kernel": "py39_llama_hf",
   "name": "pytorch-gpu.1-13.m108",
   "type": "gcloud",
   "uri": "gcr.io/deeplearning-platform-release/pytorch-gpu.1-13:m108"
  },
  "kernelspec": {
   "display_name": "py39_llama_hf",
   "language": "python",
   "name": "py39_llama_hf"
  },
  "language_info": {
   "codemirror_mode": {
    "name": "ipython",
    "version": 3
   },
   "file_extension": ".py",
   "mimetype": "text/x-python",
   "name": "python",
   "nbconvert_exporter": "python",
   "pygments_lexer": "ipython3",
   "version": "3.9.16"
  }
 },
 "nbformat": 4,
 "nbformat_minor": 5
}
